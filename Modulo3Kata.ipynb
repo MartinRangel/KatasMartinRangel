{
 "cells": [
  {
   "cell_type": "markdown",
   "metadata": {},
   "source": [
    "# Ejercicio 1"
   ]
  },
  {
   "cell_type": "code",
   "execution_count": 22,
   "metadata": {},
   "outputs": [
    {
     "name": "stdout",
     "output_type": "stream",
     "text": [
      "Advertencia se acerca un asteroide\n"
     ]
    }
   ],
   "source": [
    "#Para este ejercicio, escribirás una lógica condicional que imprima una advertencia si un asteroide se acerca a la Tierra demasiado rápido.\n",
    "#  La velocidad del asteroide varía dependiendo de lo cerca que esté del sol,\n",
    "#  y cualquier velocidad superior a 25 kilómetros por segundo (km/s) merece una advertencia.\n",
    "# Un asteroide se acerca, y viaja a una velocidad de 49 km/s.\n",
    "\n",
    "vasteroide = 49\n",
    " \n",
    "\n",
    "if vasteroide > 25 :\n",
    "    print(\"Advertencia se acerca un asteroide\")\n",
    "else:\n",
    "    print(\"Todo bien\")    "
   ]
  },
  {
   "cell_type": "markdown",
   "metadata": {},
   "source": [
    "# Ejercicio 2"
   ]
  },
  {
   "cell_type": "code",
   "execution_count": 23,
   "metadata": {},
   "outputs": [
    {
     "name": "stdout",
     "output_type": "stream",
     "text": [
      "Todo correcto\n"
     ]
    }
   ],
   "source": [
    "# Si un asteroide entra en la atmósfera de la Tierra a una velocidad mayor o igual a 20 km/s, \n",
    "# a veces produce un rayo de luz que se puede ver desde la Tierra. Escribe la lógica condicional que usa \n",
    "# declaraciones if, else, y elif para alertar a las personas de todo el mundo que deben buscar un asteroide en el cielo. \n",
    "# ¡Hay uno que se dirige a la tierra ahora a una velocidad de 19 km/s!\n",
    "\n",
    "vasteroide = 19\n",
    "\n",
    "if vasteroide > 20:\n",
    "    print (\"buscar un asteroide en el cielo\")\n",
    "\n",
    "elif vasteroide == 20:\n",
    "    print(\"posible asteroide en el cielo\") \n",
    "\n",
    "else:\n",
    "    print(\"Todo correcto\")       \n",
    "\n"
   ]
  },
  {
   "cell_type": "markdown",
   "metadata": {},
   "source": [
    "# Ejercicio: Uso de operadores and y or"
   ]
  },
  {
   "cell_type": "code",
   "execution_count": 24,
   "metadata": {},
   "outputs": [
    {
     "name": "stdout",
     "output_type": "stream",
     "text": [
      "Asteroide se quemarán a medida que entren en la atmósfera de la Tierra.\n"
     ]
    }
   ],
   "source": [
    "#*Los asteroides de menos de 25 metros en su dimensión más grande probablemente se quemarán a medida que entren en la atmósfera de la Tierra.\n",
    "\n",
    "#Si una pieza de un asteroide que es más grande que 25 metros pero más pequeña que 1000 metros golpeara la Tierra, causaría mucho daño.\n",
    "#También discutimos en el ejercicio anterior que:\n",
    "\n",
    "#La velocidad del asteroide varía en función de lo cerca que esté del sol, y cualquier velocidad superior a \n",
    "# 25 kilómetros por segundo (km/s) merece una advertencia.\n",
    "#Si un asteroide entra en la atmósfera de la Tierra a una velocidad mayor o igual a 20 km/s, \n",
    "# a veces produce un rayo de luz que se puede ver desde la Tierra.\n",
    "\n",
    "\n",
    "vasteroide = 24\n",
    "dimensionasteriode = 13\n",
    "\n",
    "if vasteroide > 25  and dimensionasteriode > 25 :\n",
    "    print(\"Advertencia se acerca un asteroide golpeara la Tierra, causa mucho daño\")\n",
    "\n",
    "if dimensionasteriode < 25 :\n",
    "    print(\"Asteroide se quemarán a medida que entren en la atmósfera de la Tierra.\")    \n",
    "\n",
    "elif vasteroide >=20:\n",
    "    print(\"buscar un asteroide en el cielo\")   \n",
    "\n",
    "else:\n",
    "    print(\"todo bien\")     \n",
    "    "
   ]
  }
 ],
 "metadata": {
  "interpreter": {
   "hash": "0ccfb106e8d688d294023d4f33b02c261a96ce88928f6658262bab2f14008662"
  },
  "kernelspec": {
   "display_name": "Python 3.10.2 64-bit",
   "language": "python",
   "name": "python3"
  },
  "language_info": {
   "codemirror_mode": {
    "name": "ipython",
    "version": 3
   },
   "file_extension": ".py",
   "mimetype": "text/x-python",
   "name": "python",
   "nbconvert_exporter": "python",
   "pygments_lexer": "ipython3",
   "version": "3.10.2"
  },
  "orig_nbformat": 4
 },
 "nbformat": 4,
 "nbformat_minor": 2
}
