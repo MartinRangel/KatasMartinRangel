{
 "cells": [
  {
   "cell_type": "markdown",
   "metadata": {},
   "source": [
    "# Ejercicio1 - Utilizar operadores aritméticos"
   ]
  },
  {
   "cell_type": "code",
   "execution_count": 1,
   "metadata": {},
   "outputs": [],
   "source": [
    "#Tierra (149.597.870 km) y Júpiter (778.547.200 km).\n",
    "\n",
    "tierra= (149597870)\n",
    "jupiter= (778547200)"
   ]
  },
  {
   "cell_type": "code",
   "execution_count": 2,
   "metadata": {},
   "outputs": [
    {
     "name": "stdout",
     "output_type": "stream",
     "text": [
      "628949330\n",
      "390577534\n"
     ]
    }
   ],
   "source": [
    "# Calcular la distancia entre planetas\n",
    "\n",
    "distanciak= jupiter-tierra\n",
    "print(distanciak)\n",
    "\n",
    "distanciam=distanciak * 0.621\n",
    "print(round(distanciam))\n"
   ]
  },
  {
   "cell_type": "markdown",
   "metadata": {},
   "source": [
    "# Ejercicio 2: convierte cadenas en números y usa valores absolutos"
   ]
  },
  {
   "cell_type": "code",
   "execution_count": 8,
   "metadata": {},
   "outputs": [],
   "source": [
    "# Almacenar las entradas del usuario\n",
    "\n",
    "planeta1 = input ('Introduzca la distancia del sol para el primer planeta en KM')\n",
    "planeta2 = input ('Introduzca la distancia desde el sol para el segundo planeta en KM')"
   ]
  },
  {
   "cell_type": "code",
   "execution_count": 9,
   "metadata": {},
   "outputs": [],
   "source": [
    "planeta1 = int(planeta1)\n",
    "planeta2 = int(planeta2)"
   ]
  },
  {
   "cell_type": "code",
   "execution_count": 10,
   "metadata": {},
   "outputs": [
    {
     "name": "stdout",
     "output_type": "stream",
     "text": [
      "-50300000\n",
      "31186000.0\n"
     ]
    }
   ],
   "source": [
    "distanciasol = planeta1 -planeta2\n",
    "print(distanciasol)\n",
    "\n",
    "distanciasolmi = distanciasol *0.62\n",
    "print(abs(distanciasolmi))"
   ]
  }
 ],
 "metadata": {
  "interpreter": {
   "hash": "0ccfb106e8d688d294023d4f33b02c261a96ce88928f6658262bab2f14008662"
  },
  "kernelspec": {
   "display_name": "Python 3.10.2 64-bit",
   "language": "python",
   "name": "python3"
  },
  "language_info": {
   "codemirror_mode": {
    "name": "ipython",
    "version": 3
   },
   "file_extension": ".py",
   "mimetype": "text/x-python",
   "name": "python",
   "nbconvert_exporter": "python",
   "pygments_lexer": "ipython3",
   "version": "3.10.2"
  },
  "orig_nbformat": 4
 },
 "nbformat": 4,
 "nbformat_minor": 2
}
